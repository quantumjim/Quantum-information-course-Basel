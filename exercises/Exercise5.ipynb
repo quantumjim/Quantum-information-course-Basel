{
 "cells": [
  {
   "cell_type": "markdown",
   "metadata": {},
   "source": [
    "# Exercise 5\n",
    "\n",
    "\n",
    "## 1. Single Qubit Clifford Gates\n",
    "\n",
    "If $U$ is a Clifford gate, the following property holds\n",
    "\n",
    "$$\n",
    "U P U^\\dagger \\sim P' \\,\\,\\,\\,\\, \\forall P,\n",
    "$$\n",
    "\n",
    "where $P$ and $P'$ are Paulis and $\\sim$ denotes equality up to a factor of $\\pm 1$ or $\\pm i$.\n",
    "\n",
    "(a) Show that the Paulis are Cliffords themselves.\n",
    "\n",
    "(b) Show that $H$, $S$ and $S^\\dagger$ are Clifford gates.\n",
    "\n",
    "(c) Show that $T=S^{1/2}$ is not a Clifford gate.\n",
    "\n",
    "## 2. Two Qubit Clifford Gates\n",
    "\n",
    "For more than one qubit, Clifford gates map between tensor products of Pauli operators.\n",
    "\n",
    "For two qubits\n",
    "\n",
    "$$\n",
    "U \\,( P \\otimes Q )\\, U^\\dagger \\sim P' \\otimes Q' \\,\\,\\,\\,\\, \\forall P,Q\n",
    "$$\n",
    "\n",
    "where $P$, $Q$, $P'$ and $Q'$ are all Paulis and $\\sim$ denotes equality up to a factor of $\\pm 1$ or $\\pm i$.\n",
    "\n",
    "(a) Show that the controlled-NOT is a Clifford gate.\n",
    "\n",
    "(b) Show that the controlled-Hadamard is not a Clifford gate."
   ]
  },
  {
   "cell_type": "code",
   "execution_count": null,
   "metadata": {},
   "outputs": [],
   "source": []
  }
 ],
 "metadata": {
  "kernelspec": {
   "display_name": "Python 3",
   "language": "python",
   "name": "python3"
  },
  "language_info": {
   "codemirror_mode": {
    "name": "ipython",
    "version": 3
   },
   "file_extension": ".py",
   "mimetype": "text/x-python",
   "name": "python",
   "nbconvert_exporter": "python",
   "pygments_lexer": "ipython3",
   "version": "3.8.5"
  }
 },
 "nbformat": 4,
 "nbformat_minor": 4
}
