{
 "cells": [
  {
   "cell_type": "markdown",
   "metadata": {},
   "source": [
    "# Exercise 7\n",
    "\n",
    "\n",
    "## 1. Effects of garage in quantum circuits\n",
    "\n",
    "The CX gate performs the mapping $(i,j) \\rightarrow (i,i+j \\mod 2)$ from an input on two bits to an output on two bits It is interesting to note (though not relevant to the problem) that this mapping is not of the form $(z,0) \\rightarrow (z,f(z))$, as considered last week, since the function $f(i,j) = i+j \\mod 2$ does not require the whole input to be present for reversibility.\n",
    "\n",
    "Here are two circuits with a CX gate."
   ]
  },
  {
   "cell_type": "markdown",
   "metadata": {},
   "source": [
    "![](circuits.png)"
   ]
  },
  {
   "cell_type": "markdown",
   "metadata": {},
   "source": [
    "* (a) The first circuit is composed of both a quantum part and an irreversible classical part. Determine the final output bit $b$.\n",
    "\n",
    "* (b) Show that the second circuit effectively acts as a CX between the first and third qubits, but with the additional effect of producting a garbage qubit on the second.\n",
    "\n",
    "* (c) Replace the true CX in the first circuit with the garbage producing one from the second. Show that this changes the output bit.\n",
    "\n",
    "* (d) Show how the garbage producing CX can be corrected by uncomputation."
   ]
  },
  {
   "cell_type": "markdown",
   "metadata": {},
   "source": [
    "## 2. Teleportation\n",
    "\n",
    "Consider an arbitrary state of the form\n",
    "\n",
    "$$\n",
    "\\left | \\psi \\right \\rangle = a \\left | 0 \\right \\rangle + b \\left | 1 \\right \\rangle .\n",
    "$$\n",
    "\n",
    "The qubit in this state belongs to Alice. She and Bob also have one qubit each of a Bell state\n",
    "\n",
    "$$\n",
    "\\left | \\Phi^+ \\right \\rangle = \\frac{1}{\\sqrt{2}} \\left( \\left | 00 \\right \\rangle + \\left | 11 \\right \\rangle \\right) .\n",
    "$$\n",
    "\n",
    "The total state can then be written as\n",
    "\n",
    "$$\n",
    "\\left | \\psi \\right \\rangle = a \\left | 0 \\right \\rangle \\otimes \\left | \\Phi^+ \\right \\rangle + b \\left | 1 \\right \\rangle \\otimes \\left | \\Phi^+ \\right \\rangle .\n",
    "$$\n",
    "\n",
    "Here the two qubits on the left (one of which is part of the Bell pair) belong to Alice. The one on the right (the other part of the Bell pair) belongs to Bob.\n",
    "\n",
    "* (a) Rewrite the state with Alice's qubits expressed in the Bell basis, and Bob's in the Z basis.\n",
    "\n",
    "* (b) Find the resulting state of Bob's qubit for each possible outcome of a Bell measurement on Alice's qubits.\n",
    "\n",
    "* (c) Find the single qubit rotation required by Bob in each case, to rotate his state to $\\left | \\psi \\right \\rangle$. Show that this depends only on Alice's result, and requires no knowledge of \\left | \\psi \\right \\rangle.\n",
    "\n",
    "* (d) Repeat all the above, but with the entangled pair initially in the $\\left | \\Phi^+ \\right \\rangle$ state."
   ]
  },
  {
   "cell_type": "code",
   "execution_count": null,
   "metadata": {},
   "outputs": [],
   "source": []
  }
 ],
 "metadata": {
  "kernelspec": {
   "display_name": "Python 3",
   "language": "python",
   "name": "python3"
  },
  "language_info": {
   "codemirror_mode": {
    "name": "ipython",
    "version": 3
   },
   "file_extension": ".py",
   "mimetype": "text/x-python",
   "name": "python",
   "nbconvert_exporter": "python",
   "pygments_lexer": "ipython3",
   "version": "3.8.5"
  }
 },
 "nbformat": 4,
 "nbformat_minor": 4
}
