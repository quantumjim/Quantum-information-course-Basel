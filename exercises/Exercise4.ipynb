{
 "cells": [
  {
   "cell_type": "markdown",
   "metadata": {},
   "source": [
    "\n",
    "## 1. Alternative Pauli Basis States\n",
    "\n",
    "There are an infinite number of possible single qubit states.  From a theoretical stand-point,  the  one  we  choose  to  label $| 0 \\rangle$ is  arbitrary.   So  let’s  consider  the  following alternative.\n",
    "\n",
    "$$\n",
    "| \\bar 0 \\rangle = \\cos(\\theta) \\, | 0 \\rangle + \\sin(\\theta) \\, | 1 \\rangle.\n",
    "$$\n",
    "\n",
    "For this $| \\bar 0 \\rangle$:\n",
    "* (a) Find a corresponding orthogonal state $| \\bar 1 \\rangle$;\n",
    "* (b)  For this basis $| \\bar 0 \\rangle$, $| \\bar 1 \\rangle$, find mutually unbiased basis states $| \\bar + \\rangle$ and $| \\bar - \\rangle$;\n",
    "* (c)  Now find the two basis states for a third mutually unbiased basis"
   ]
  },
  {
   "cell_type": "code",
   "execution_count": null,
   "metadata": {},
   "outputs": [],
   "source": []
  }
 ],
 "metadata": {
  "kernelspec": {
   "display_name": "Python 3",
   "language": "python",
   "name": "python3"
  },
  "language_info": {
   "codemirror_mode": {
    "name": "ipython",
    "version": 3
   },
   "file_extension": ".py",
   "mimetype": "text/x-python",
   "name": "python",
   "nbconvert_exporter": "python",
   "pygments_lexer": "ipython3",
   "version": "3.8.5"
  }
 },
 "nbformat": 4,
 "nbformat_minor": 4
}
